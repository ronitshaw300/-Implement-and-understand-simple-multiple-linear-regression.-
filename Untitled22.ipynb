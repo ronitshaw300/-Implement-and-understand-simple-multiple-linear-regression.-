{
  "nbformat": 4,
  "nbformat_minor": 0,
  "metadata": {
    "colab": {
      "provenance": []
    },
    "kernelspec": {
      "name": "python3",
      "display_name": "Python 3"
    },
    "language_info": {
      "name": "python"
    }
  },
  "cells": [
    {
      "cell_type": "code",
      "source": [
        "import pandas as pd\n",
        "import numpy as np\n",
        "import matplotlib.pyplot as plt\n",
        "from sklearn.model_selection import train_test_split\n",
        "from sklearn.linear_model import LinearRegression\n",
        "from sklearn.metrics import mean_absolute_error, mean_squared_error, r2_score\n"
      ],
      "metadata": {
        "id": "1KMebR1qyz79"
      },
      "execution_count": 1,
      "outputs": []
    },
    {
      "cell_type": "code",
      "source": [
        "df = pd.read_csv('/content/archive (9).zip')\n",
        "print(df.head())"
      ],
      "metadata": {
        "colab": {
          "base_uri": "https://localhost:8080/"
        },
        "id": "E4ZyiMsDy2fO",
        "outputId": "019d90f0-2452-4773-8651-41989ac45d96"
      },
      "execution_count": 4,
      "outputs": [
        {
          "output_type": "stream",
          "name": "stdout",
          "text": [
            "      price  area  bedrooms  bathrooms  stories mainroad guestroom basement  \\\n",
            "0  13300000  7420         4          2        3      yes        no       no   \n",
            "1  12250000  8960         4          4        4      yes        no       no   \n",
            "2  12250000  9960         3          2        2      yes        no      yes   \n",
            "3  12215000  7500         4          2        2      yes        no      yes   \n",
            "4  11410000  7420         4          1        2      yes       yes      yes   \n",
            "\n",
            "  hotwaterheating airconditioning  parking prefarea furnishingstatus  \n",
            "0              no             yes        2      yes        furnished  \n",
            "1              no             yes        3       no        furnished  \n",
            "2              no              no        2      yes   semi-furnished  \n",
            "3              no             yes        3      yes        furnished  \n",
            "4              no             yes        2       no        furnished  \n"
          ]
        }
      ]
    },
    {
      "cell_type": "code",
      "source": [
        "df = pd.get_dummies(df, drop_first=True)\n",
        "print(df.head())\n"
      ],
      "metadata": {
        "colab": {
          "base_uri": "https://localhost:8080/"
        },
        "id": "U01XzL09zZlp",
        "outputId": "2a805e6f-33f6-4ecb-dade-1c6a7ef8f240"
      },
      "execution_count": 13,
      "outputs": [
        {
          "output_type": "stream",
          "name": "stdout",
          "text": [
            "      price  area  bedrooms  bathrooms  stories  parking  mainroad_yes  \\\n",
            "0  13300000  7420         4          2        3        2          True   \n",
            "1  12250000  8960         4          4        4        3          True   \n",
            "2  12250000  9960         3          2        2        2          True   \n",
            "3  12215000  7500         4          2        2        3          True   \n",
            "4  11410000  7420         4          1        2        2          True   \n",
            "\n",
            "   guestroom_yes  basement_yes  hotwaterheating_yes  airconditioning_yes  \\\n",
            "0          False         False                False                 True   \n",
            "1          False         False                False                 True   \n",
            "2          False          True                False                False   \n",
            "3          False          True                False                 True   \n",
            "4           True          True                False                 True   \n",
            "\n",
            "   prefarea_yes  furnishingstatus_semi-furnished  furnishingstatus_unfurnished  \n",
            "0          True                            False                         False  \n",
            "1         False                            False                         False  \n",
            "2          True                             True                         False  \n",
            "3          True                            False                         False  \n",
            "4         False                            False                         False  \n"
          ]
        }
      ]
    },
    {
      "cell_type": "code",
      "source": [
        "X = df.drop('price', axis=1)\n",
        "y = df['price']\n",
        "\n",
        "print(\"Head of X:\")\n",
        "print(X.head())\n",
        "\n",
        "print(\"\\nHead of y:\")\n",
        "print(y.head())"
      ],
      "metadata": {
        "colab": {
          "base_uri": "https://localhost:8080/"
        },
        "id": "-0j_V-9PzgYC",
        "outputId": "8e699d64-3c89-400d-9877-78518c01418f"
      },
      "execution_count": 14,
      "outputs": [
        {
          "output_type": "stream",
          "name": "stdout",
          "text": [
            "Head of X:\n",
            "   area  bedrooms  bathrooms  stories  parking  mainroad_yes  guestroom_yes  \\\n",
            "0  7420         4          2        3        2          True          False   \n",
            "1  8960         4          4        4        3          True          False   \n",
            "2  9960         3          2        2        2          True          False   \n",
            "3  7500         4          2        2        3          True          False   \n",
            "4  7420         4          1        2        2          True           True   \n",
            "\n",
            "   basement_yes  hotwaterheating_yes  airconditioning_yes  prefarea_yes  \\\n",
            "0         False                False                 True          True   \n",
            "1         False                False                 True         False   \n",
            "2          True                False                False          True   \n",
            "3          True                False                 True          True   \n",
            "4          True                False                 True         False   \n",
            "\n",
            "   furnishingstatus_semi-furnished  furnishingstatus_unfurnished  \n",
            "0                            False                         False  \n",
            "1                            False                         False  \n",
            "2                             True                         False  \n",
            "3                            False                         False  \n",
            "4                            False                         False  \n",
            "\n",
            "Head of y:\n",
            "0    13300000\n",
            "1    12250000\n",
            "2    12250000\n",
            "3    12215000\n",
            "4    11410000\n",
            "Name: price, dtype: int64\n"
          ]
        }
      ]
    },
    {
      "cell_type": "code",
      "source": [
        "X_train, X_test, y_train, y_test = train_test_split(X, y, test_size=0.2, random_state=42)\n",
        "\n",
        "print(\"Shape of X_train:\", X_train.shape)\n",
        "print(\"Shape of X_test:\", X_test.shape)\n",
        "print(\"Shape of y_train:\", y_train.shape)\n",
        "print(\"Shape of y_test:\", y_test.shape)"
      ],
      "metadata": {
        "colab": {
          "base_uri": "https://localhost:8080/"
        },
        "id": "U-zsBYueznbB",
        "outputId": "9c80e7c5-f23e-4eb8-f3b1-dd416e1215e7"
      },
      "execution_count": 15,
      "outputs": [
        {
          "output_type": "stream",
          "name": "stdout",
          "text": [
            "Shape of X_train: (436, 13)\n",
            "Shape of X_test: (109, 13)\n",
            "Shape of y_train: (436,)\n",
            "Shape of y_test: (109,)\n"
          ]
        }
      ]
    },
    {
      "cell_type": "code",
      "source": [
        "model = LinearRegression()\n",
        "model.fit(X_train, y_train)\n",
        "\n",
        "# To see the learned coefficients:\n",
        "print(\"Coefficients:\", model.coef_)\n",
        "\n",
        "# To see the learned intercept:\n",
        "print(\"Intercept:\", model.intercept_)"
      ],
      "metadata": {
        "colab": {
          "base_uri": "https://localhost:8080/"
        },
        "id": "00BoGacwzs5y",
        "outputId": "c5bf4ff9-e976-482e-85fc-ed88a7b8be81"
      },
      "execution_count": 16,
      "outputs": [
        {
          "output_type": "stream",
          "name": "stdout",
          "text": [
            "Coefficients: [ 2.35968805e+02  7.67787016e+04  1.09444479e+06  4.07476595e+05\n",
            "  2.24841913e+05  3.67919948e+05  2.31610037e+05  3.90251176e+05\n",
            "  6.84649885e+05  7.91426736e+05  6.29890565e+05 -1.26881818e+05\n",
            " -4.13645062e+05]\n",
            "Intercept: 260032.35760741215\n"
          ]
        }
      ]
    },
    {
      "cell_type": "code",
      "source": [
        "y_pred = model.predict(X_test)\n",
        "mae = mean_absolute_error(y_test, y_pred)\n",
        "mse = mean_squared_error(y_test, y_pred)\n",
        "r2 = r2_score(y_test, y_pred)\n",
        "print(f\"MAE: {mae}\")\n",
        "print(f\"MSE: {mse}\")\n",
        "print(f\"R² Score: {r2}\")\n"
      ],
      "metadata": {
        "colab": {
          "base_uri": "https://localhost:8080/"
        },
        "id": "g4nwpyo8zzID",
        "outputId": "de7dc88b-d631-483e-9319-efce449b446c"
      },
      "execution_count": 10,
      "outputs": [
        {
          "output_type": "stream",
          "name": "stdout",
          "text": [
            "MAE: 970043.4039201636\n",
            "MSE: 1754318687330.6638\n",
            "R² Score: 0.6529242642153184\n"
          ]
        }
      ]
    },
    {
      "cell_type": "code",
      "source": [
        "plt.scatter(X_test['area'], y_test, color='blue', label='Actual')\n",
        "plt.scatter(X_test['area'], y_pred, color='red', label='Predicted')\n",
        "plt.xlabel('Area')\n",
        "plt.ylabel('Price')\n",
        "plt.title('Actual vs Predicted Prices based on Area')\n",
        "plt.legend()\n",
        "plt.show()\n"
      ],
      "metadata": {
        "colab": {
          "base_uri": "https://localhost:8080/",
          "height": 472
        },
        "id": "DepOf30Sz3UB",
        "outputId": "d642d24b-7daf-4def-ecbb-aad1d00e5c92"
      },
      "execution_count": 11,
      "outputs": [
        {
          "output_type": "display_data",
          "data": {
            "text/plain": [
              "<Figure size 640x480 with 1 Axes>"
            ],
            "image/png": "[encoded data removed]"
          },
          "metadata": {}
        }
      ]
    },
    {
      "cell_type": "code",
      "source": [
        "coefficients = pd.DataFrame({\n",
        "    'Feature': X.columns,\n",
        "    'Coefficient': model.coef_\n",
        "})\n",
        "print(\"\\nCoefficients:\")\n",
        "print(coefficients)"
      ],
      "metadata": {
        "colab": {
          "base_uri": "https://localhost:8080/"
        },
        "id": "D94xfqmh0HMF",
        "outputId": "2e8471fc-89be-4b6f-86cc-33e4ad7a0130"
      },
      "execution_count": 12,
      "outputs": [
        {
          "output_type": "stream",
          "name": "stdout",
          "text": [
            "\n",
            "Coefficients:\n",
            "                            Feature   Coefficient\n",
            "0                              area  2.359688e+02\n",
            "1                          bedrooms  7.677870e+04\n",
            "2                         bathrooms  1.094445e+06\n",
            "3                           stories  4.074766e+05\n",
            "4                           parking  2.248419e+05\n",
            "5                      mainroad_yes  3.679199e+05\n",
            "6                     guestroom_yes  2.316100e+05\n",
            "7                      basement_yes  3.902512e+05\n",
            "8               hotwaterheating_yes  6.846499e+05\n",
            "9               airconditioning_yes  7.914267e+05\n",
            "10                     prefarea_yes  6.298906e+05\n",
            "11  furnishingstatus_semi-furnished -1.268818e+05\n",
            "12     furnishingstatus_unfurnished -4.136451e+05\n"
          ]
        }
      ]
    }
  ]
}